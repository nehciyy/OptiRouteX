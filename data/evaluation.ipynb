{
 "cells": [
  {
   "cell_type": "markdown",
   "metadata": {},
   "source": [
    "# Evaluation of results"
   ]
  },
  {
   "cell_type": "code",
   "execution_count": null,
   "metadata": {},
   "outputs": [],
   "source": [
    "#Import all the necessary libraries\n",
    "import numpy as np\n",
    "import pandas as pd\n",
    "import matplotlib.pyplot as plt\n",
    "import seaborn as sns"
   ]
  },
  {
   "cell_type": "code",
   "execution_count": null,
   "metadata": {},
   "outputs": [],
   "source": [
    "#Import Best Route Data\n",
    "\n",
    "#Generation = 5, Population = 5\n",
    "best_route_gen5_test_5 = pd.read_csv('bestRoute/best_route_gen5_test_5.csv')\n",
    "best_route_gen5_test_10 = pd.read_csv('bestRoute/best_route_gen5_test_10.csv')\n",
    "best_route_gen5_test_15 = pd.read_csv('bestRoute/best_route_gen5_test_15.csv')\n",
    "\n",
    "#Generation = 10, Population = 5\n",
    "best_route_gen10_test_5 = pd.read_csv('bestRoute/best_route_gen10_test_5.csv')\n",
    "best_route_gen10_test_10 = pd.read_csv('bestRoute/best_route_gen10_test_10.csv')\n",
    "best_route_gen10_test_15 = pd.read_csv('bestRoute/best_route_gen10_test_15.csv')\n",
    "\n",
    "#Generation = 5, Population = 10\n",
    "best_route_pop10_gen5_test_5 = pd.read_csv('bestRoute/best_route_pop10_gen5_test_5.csv')\n",
    "best_route_pop10_gen5_test_10 = pd.read_csv('bestRoute/best_route_pop10_gen5_test_10.csv')\n",
    "best_route_pop10_gen5_test_15 = pd.read_csv('bestRoute/best_route_pop10_gen5_test_15.csv')\n",
    "\n",
    "#Generation = 10, Population = 10\n",
    "best_route_pop10_gen10_test_5 = pd.read_csv('bestRoute/best_route_pop10_gen10_test_5.csv')\n",
    "best_route_pop10_gen10_test_10 = pd.read_csv('bestRoute/best_route_pop10_gen10_test_10.csv')\n",
    "best_route_pop10_gen10_test_15 = pd.read_csv('bestRoute/best_route_pop10_gen10_test_15.csv')"
   ]
  },
  {
   "cell_type": "code",
   "execution_count": null,
   "metadata": {},
   "outputs": [],
   "source": [
    "#Import Each Generation Data\n",
    "#Generation = 5, Population = 5\n",
    "generation_results_gen5_test_5 = pd.read_csv('genrationResults/generation_results_gen5_test_5.csv')\n",
    "generation_results_gen5_test_10 = pd.read_csv('genrationResults/generation_results_gen5_test_10.csv')\n",
    "generation_results_gen5_test_15 = pd.read_csv('genrationResults/generation_results_gen5_test_15.csv')\n",
    "\n",
    "#Generation = 10, Population = 5\n",
    "generation_results_gen10_test_5 = pd.read_csv('genrationResults/generation_results_gen10_test_5.csv')\n",
    "generation_results_gen10_test_10 = pd.read_csv('genrationResults/generation_results_gen10_test_10.csv')\n",
    "generation_results_gen10_test_15 = pd.read_csv('genrationResults/generation_results_gen10_test_15.csv')\n",
    "\n",
    "#Generation = 5, Population = 10\n",
    "generation_results_pop10_gen5_test_5 = pd.read_csv('genrationResults/generation_results_pop10_gen5_test_5.csv')\n",
    "generation_results_pop10_gen5_test_10 = pd.read_csv('genrationResults/generation_results_pop10_gen5_test_10.csv')\n",
    "generation_results_pop10_gen5_test_15 = pd.read_csv('genrationResults/generation_results_pop10_gen5_test_15.csv')\n",
    "\n",
    "#Generation = 10, Population = 10\n",
    "generation_results_pop10_gen10_test_5 = pd.read_csv('genrationResults/generation_results_pop10_gen10_test_5.csv')\n",
    "generation_results_pop10_gen10_test_10 = pd.read_csv('genrationResults/generation_results_pop10_gen10_test_10.csv')\n",
    "generation_results_pop10_gen10_test_15 = pd.read_csv('genrationResults/generation_results_pop10_gen10_test_15.csv')"
   ]
  },
  {
   "cell_type": "markdown",
   "metadata": {},
   "source": [
    "## 1. Origin + 5 Test Cases  + Destination"
   ]
  },
  {
   "cell_type": "markdown",
   "metadata": {},
   "source": [
    "### 1.1 Population = 5, Generation = 5"
   ]
  },
  {
   "cell_type": "code",
   "execution_count": null,
   "metadata": {},
   "outputs": [],
   "source": []
  },
  {
   "cell_type": "markdown",
   "metadata": {},
   "source": [
    "## 2. Origin + 10 Test Cases + Destination"
   ]
  },
  {
   "cell_type": "markdown",
   "metadata": {},
   "source": [
    "### 2.1 Population = 5, Generation = 5"
   ]
  },
  {
   "cell_type": "code",
   "execution_count": null,
   "metadata": {},
   "outputs": [],
   "source": []
  },
  {
   "cell_type": "markdown",
   "metadata": {},
   "source": [
    "## 3. Origin + 15 Test Cases + Destination"
   ]
  },
  {
   "cell_type": "markdown",
   "metadata": {},
   "source": [
    "### 3.1 Population = 5, Generation = 5"
   ]
  },
  {
   "cell_type": "code",
   "execution_count": null,
   "metadata": {},
   "outputs": [],
   "source": []
  },
  {
   "cell_type": "markdown",
   "metadata": {},
   "source": [
    "## 4. Best number of Population "
   ]
  },
  {
   "cell_type": "code",
   "execution_count": null,
   "metadata": {},
   "outputs": [],
   "source": []
  },
  {
   "cell_type": "markdown",
   "metadata": {},
   "source": [
    "## 5. Best number of Generation"
   ]
  },
  {
   "cell_type": "code",
   "execution_count": null,
   "metadata": {},
   "outputs": [],
   "source": []
  }
 ],
 "metadata": {
  "language_info": {
   "name": "python"
  }
 },
 "nbformat": 4,
 "nbformat_minor": 2
}
