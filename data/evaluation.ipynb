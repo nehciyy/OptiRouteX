{
 "cells": [
  {
   "cell_type": "markdown",
   "metadata": {},
   "source": [
    "# Evaluation of results"
   ]
  },
  {
   "cell_type": "code",
   "execution_count": null,
   "metadata": {},
   "outputs": [],
   "source": [
    "#Import all the necessary libraries\n",
    "import numpy as np\n",
    "import pandas as pd\n",
    "import matplotlib.pyplot as plt\n",
    "import seaborn as sns"
   ]
  },
  {
   "cell_type": "code",
   "execution_count": null,
   "metadata": {},
   "outputs": [],
   "source": [
    "# Generation = 5, Population = 5\n",
    "best_route_gen5_test_5 = pd.read_csv('bestRoute/best_route_gen5_test_5.csv')\n",
    "best_route_gen5_test_5_traffic = pd.read_csv('bestRoute/best_route_gen5_test5_traffic.csv')\n",
    "best_route_gen5_test_7 = pd.read_csv('bestRoute/best_route_gen5_test_7.csv')\n",
    "best_route_gen5_test_7_traffic = pd.read_csv('bestRoute/best_route_gen5_test7_traffic.csv')\n",
    "best_route_gen5_test_10 = pd.read_csv('bestRoute/best_route_gen5_test10.csv')\n",
    "best_route_gen5_test_10_traffic = pd.read_csv('bestRoute/best_route_gen5_test10_traffic.csv')\n",
    "\n",
    "# Generation = 10, Population = 5\n",
    "best_route_gen10_test_5 = pd.read_csv('bestRoute/best_route_gen10_test_5.csv')\n",
    "best_route_gen10_test_5_traffic = pd.read_csv('bestRoute/best_route_gen10_test_5_traffic.csv')\n",
    "best_route_gen10_test_7 = pd.read_csv('bestRoute/best_route_gen10_test_7.csv')\n",
    "best_route_gen10_test_7_traffic = pd.read_csv('bestRoute/best_route_gen10_test_7_traffic.csv')\n",
    "best_route_gen10_test_10 = pd.read_csv('bestRoute/best_route_gen10_test_10.csv')\n",
    "best_route_gen10_test_10_traffic = pd.read_csv('bestRoute/best_route_gen10_test_10_traffic.csv')\n",
    "\n",
    "# Generation = 5, Population = 10\n",
    "best_route_pop10_gen5_test_5 = pd.read_csv('bestRoute/best_route_pop10_gen5_test_5.csv')\n",
    "best_route_pop10_gen5_test_5_traffic = pd.read_csv('bestRoute/best_route_pop10_gen5_test_5_traffic.csv')\n",
    "best_route_pop10_gen5_test_7 = pd.read_csv('bestRoute/best_route_pop10_gen5_test_7.csv')\n",
    "best_route_pop10_gen5_test_7_traffic = pd.read_csv('bestRoute/best_route_pop10_gen5_test_7_traffic.csv')\n",
    "best_route_pop10_gen5_test_10 = pd.read_csv('bestRoute/best_route_pop10_gen5_test_10.csv')\n",
    "best_route_pop10_gen5_test_10_traffic = pd.read_csv('bestRoute/best_route_pop10_gen5_test_10_traffic.csv')\n",
    "\n",
    "# Generation = 10, Population = 10\n",
    "#best_route_pop10_gen10_test_5 = pd.read_csv('bestRoute/best_route_pop10_gen10_test_5.csv')\n",
    "best_route_pop10_gen10_test_5_traffic = pd.read_csv('bestRoute/best_route_pop10_gen10_test_5_traffic.csv')\n",
    "best_route_pop10_gen10_test_7 = pd.read_csv('bestRoute/best_route_pop10_gen10_test_7.csv')\n",
    "best_route_pop10_gen10_test_7_traffic = pd.read_csv('bestRoute/best_route_pop10_gen10_test_7_traffic.csv')\n",
    "best_route_pop10_gen10_test_10 = pd.read_csv('bestRoute/best_route_pop10_gen10_test_10.csv')\n",
    "best_route_pop10_gen10_test_10_traffic = pd.read_csv('bestRoute/best_route_pop10_gen10_test_10_traffic.csv')"
   ]
  },
  {
   "cell_type": "code",
   "execution_count": null,
   "metadata": {},
   "outputs": [],
   "source": [
    "# Generation = 5, Population = 5\n",
    "generation_results_gen5_test_5 = pd.read_csv('generationResults/generation_results_gen5_test5.csv')\n",
    "generation_results_gen5_test_5_traffic = pd.read_csv('generationResults/generation_results_gen5_test5_traffic.csv')\n",
    "generation_results_gen5_test_7 = pd.read_csv('generationResults/generation_results_gen5_test7.csv')\n",
    "generation_results_gen5_test_7_traffic = pd.read_csv('generationResults/generation_results_gen5_test7_traffic.csv')\n",
    "generation_results_gen5_test_10 = pd.read_csv('generationResults/generation_results_gen5_test10.csv')\n",
    "generation_results_gen5_test_10_traffic = pd.read_csv('generationResults/generation_results_gen5_test10_traffic.csv')\n",
    "\n",
    "# Generation = 10, Population = 5\n",
    "generation_results_gen10_test_5 = pd.read_csv('generationResults/generation_results_gen10_test_5.csv')\n",
    "generation_results_gen10_test_5_traffic = pd.read_csv('generationResults/generation_results_gen10_test_5_traffic.csv')\n",
    "generation_results_gen10_test_7 = pd.read_csv('generationResults/generation_results_gen10_test_7.csv')\n",
    "generation_results_gen10_test_7_traffic = pd.read_csv('generationResults/generation_results_gen10_test_7_traffic.csv')\n",
    "generation_results_gen10_test_10 = pd.read_csv('generationResults/generation_results_gen10_test_10.csv')\n",
    "generation_results_gen10_test_10_traffic = pd.read_csv('generationResults/generation_results_gen10_test_10_traffic.csv')\n",
    "\n",
    "# Generation = 5, Population = 10\n",
    "generation_results_pop10_gen5_test_5 = pd.read_csv('generationResults/generation_results_pop10_gen5_test_5.csv')\n",
    "generation_results_pop10_gen5_test_5_traffic = pd.read_csv('generationResults/generation_results_pop10_gen5_test_5_traffic.csv')\n",
    "generation_results_pop10_gen5_test_7 = pd.read_csv('generationResults/generation_results_pop10_gen5_test_7.csv')\n",
    "generation_results_pop10_gen5_test_7_traffic = pd.read_csv('generationResults/generation_results_pop10_gen5_test_7_traffic.csv')\n",
    "generation_results_pop10_gen5_test_10 = pd.read_csv('generationResults/generation_results_pop10_gen5_test_10.csv')\n",
    "generation_results_pop10_gen5_test_10_traffic = pd.read_csv('generationResults/generation_results_pop10_gen5_test_10_traffic.csv')\n",
    "\n",
    "# Generation = 10, Population = 10\n",
    "#generation_results_pop10_gen10_test_5 = pd.read_csv('generationResults/generation_results_pop10_gen10_test_5.csv')\n",
    "generation_results_pop10_gen10_test_5_traffic = pd.read_csv('generationResults/generation_results_pop10_gen10_test_5_traffic.csv')\n",
    "generation_results_pop10_gen10_test_7 = pd.read_csv('generationResults/generation_results_pop10_gen10_test_7.csv')\n",
    "generation_results_pop10_gen10_test_7_traffic = pd.read_csv('generationResults/generation_results_pop10_gen10_test_7_traffic.csv')\n",
    "generation_results_pop10_gen10_test_10 = pd.read_csv('generationResults/generation_results_pop10_gen10_test_10.csv')\n",
    "generation_results_pop10_gen10_test_10_traffic = pd.read_csv('generationResults/generation_results_pop10_gen10_test_10_traffic.csv')"
   ]
  },
  {
   "cell_type": "markdown",
   "metadata": {},
   "source": [
    "## 1. Origin + 5 Test Cases  + Destination"
   ]
  },
  {
   "cell_type": "markdown",
   "metadata": {},
   "source": [
    "### 1.1 Population = 5, Generation = 5"
   ]
  },
  {
   "cell_type": "code",
   "execution_count": null,
   "metadata": {},
   "outputs": [],
   "source": []
  },
  {
   "cell_type": "markdown",
   "metadata": {},
   "source": [
    "## 2. Origin + 10 Test Cases + Destination"
   ]
  },
  {
   "cell_type": "markdown",
   "metadata": {},
   "source": [
    "### 2.1 Population = 5, Generation = 5"
   ]
  },
  {
   "cell_type": "code",
   "execution_count": null,
   "metadata": {},
   "outputs": [],
   "source": []
  },
  {
   "cell_type": "markdown",
   "metadata": {},
   "source": [
    "## 3. Origin + 15 Test Cases + Destination"
   ]
  },
  {
   "cell_type": "markdown",
   "metadata": {},
   "source": [
    "### 3.1 Population = 5, Generation = 5"
   ]
  },
  {
   "cell_type": "code",
   "execution_count": null,
   "metadata": {},
   "outputs": [],
   "source": []
  },
  {
   "cell_type": "markdown",
   "metadata": {},
   "source": [
    "## 4. Best number of Population "
   ]
  },
  {
   "cell_type": "code",
   "execution_count": null,
   "metadata": {},
   "outputs": [],
   "source": []
  },
  {
   "cell_type": "markdown",
   "metadata": {},
   "source": [
    "## 5. Best number of Generation"
   ]
  },
  {
   "cell_type": "code",
   "execution_count": null,
   "metadata": {},
   "outputs": [],
   "source": []
  }
 ],
 "metadata": {
  "language_info": {
   "name": "python"
  }
 },
 "nbformat": 4,
 "nbformat_minor": 2
}
